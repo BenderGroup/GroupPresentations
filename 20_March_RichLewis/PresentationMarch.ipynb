{
 "metadata": {
  "name": ""
 },
 "nbformat": 3,
 "nbformat_minor": 0,
 "worksheets": [
  {
   "cells": [
    {
     "cell_type": "markdown",
     "metadata": {
      "slideshow": {
       "slide_type": "slide"
      }
     },
     "source": [
      "#Group Presentation\n",
      "\n",
      "###Rich Lewis\n",
      "\n",
      "20/03/14\n"
     ]
    },
    {
     "cell_type": "markdown",
     "metadata": {
      "slideshow": {
       "slide_type": "slide"
      }
     },
     "source": [
      "\n",
      "#Group Website\n"
     ]
    },
    {
     "cell_type": "markdown",
     "metadata": {
      "slideshow": {
       "slide_type": "fragment"
      }
     },
     "source": [
      "\n",
      "[http://www.ch.cam.ac.uk/group/bender/index](http://www.ch.cam.ac.uk/group/bender/index)\n",
      "\n",
      "<iframe height=400 width=1000 src=\"http://www.ch.cam.ac.uk/group/bender/index\"></iframe>\n"
     ]
    },
    {
     "cell_type": "markdown",
     "metadata": {
      "slideshow": {
       "slide_type": "fragment"
      }
     },
     "source": [
      "- Most of the content has now been added.\n",
      "- The template unfortunately hasn't yet been updated to that of the new website."
     ]
    },
    {
     "cell_type": "markdown",
     "metadata": {
      "slideshow": {
       "slide_type": "subslide"
      }
     },
     "source": [
      "#Members Page\n",
      "\n",
      "[http://www.ch.cam.ac.uk/group/bender/members](http://www.ch.cam.ac.uk/group/bender/members)\n"
     ]
    },
    {
     "cell_type": "markdown",
     "metadata": {
      "slideshow": {
       "slide_type": "fragment"
      }
     },
     "source": [
      "<iframe height=400 width=1000 src=\"http://www.ch.cam.ac.uk/group/bender/members\"></iframe>"
     ]
    },
    {
     "cell_type": "markdown",
     "metadata": {
      "slideshow": {
       "slide_type": "fragment"
      }
     },
     "source": [
      "- We will either have the group photo here, or a list of names with pictures next to them - opinions?\n",
      "- I've tried to add everyone to the list, but if anyone is missing [let me know](mailto:rl403@cam.ac.uk)."
     ]
    },
    {
     "cell_type": "markdown",
     "metadata": {
      "slideshow": {
       "slide_type": "subslide"
      }
     },
     "source": [
      "#New members \n"
     ]
    },
    {
     "cell_type": "markdown",
     "metadata": {
      "slideshow": {
       "slide_type": "fragment"
      }
     },
     "source": [
      "\n",
      "- Welcome!\n",
      "- Log into the website with your new Raven account\n",
      "- Email me so I can add permissions to your account to edit your page"
     ]
    },
    {
     "cell_type": "markdown",
     "metadata": {
      "slideshow": {
       "slide_type": "subslide"
      }
     },
     "source": [
      "#All members\n"
     ]
    },
    {
     "cell_type": "markdown",
     "metadata": {
      "slideshow": {
       "slide_type": "fragment"
      }
     },
     "source": [
      "<iframe src=\"http://www.ch.cam.ac.uk/group/bender/person/chga2\" width=1000 height=400></iframe>"
     ]
    },
    {
     "cell_type": "markdown",
     "metadata": {
      "slideshow": {
       "slide_type": "fragment"
      }
     },
     "source": [
      "- Keep filling in your details!\n",
      "- Once they are done, I'll quickly check through, putting in links\n",
      "- If you want any help to get everything formatted, [email me](mailto:rl403@cam.ac.uk)\n",
      "- Add a picture, and make sure you call it your crs_id name (e.g. rl403)\n",
      "- Any extra suggestions for things that should be added?"
     ]
    },
    {
     "cell_type": "markdown",
     "metadata": {
      "slideshow": {
       "slide_type": "subslide"
      }
     },
     "source": [
      "#Research Pages\n",
      "\n",
      "[http://www.ch.cam.ac.uk/group/bender/research](http://www.ch.cam.ac.uk/group/bender/members)"
     ]
    },
    {
     "cell_type": "markdown",
     "metadata": {
      "slideshow": {
       "slide_type": "fragment"
      }
     },
     "source": [
      "<iframe src=\"http://www.ch.cam.ac.uk/group/bender/research\" width=1000 height=400></iframe>"
     ]
    },
    {
     "cell_type": "markdown",
     "metadata": {
      "slideshow": {
       "slide_type": "fragment"
      }
     },
     "source": [
      "- Currently, we only have a single page explaining the high level area the group is involved in.\n",
      "- Should we allocate people to write up a quick description of the research areas?"
     ]
    },
    {
     "cell_type": "markdown",
     "metadata": {
      "slideshow": {
       "slide_type": "subslide"
      }
     },
     "source": [
      "\n",
      "#News Section\n",
      "\n"
     ]
    },
    {
     "cell_type": "markdown",
     "metadata": {
      "slideshow": {
       "slide_type": "fragment"
      }
     },
     "source": [
      "<iframe src=\"http://www.ch.cam.ac.uk/group/bender/news\" width=1000 height=400></iframe>"
     ]
    },
    {
     "cell_type": "markdown",
     "metadata": {
      "slideshow": {
       "slide_type": "fragment"
      }
     },
     "source": [
      "- If anyone has any news, we can put it up on the news section of the website\n",
      "- e.g. papers published, winning awards, any personal news\n",
      "- Hopefully, we can have a live update of the news on the front page"
     ]
    },
    {
     "cell_type": "markdown",
     "metadata": {
      "slideshow": {
       "slide_type": "subslide"
      }
     },
     "source": [
      "#Wiki"
     ]
    },
    {
     "cell_type": "markdown",
     "metadata": {
      "slideshow": {
       "slide_type": "fragment"
      }
     },
     "source": [
      "[http://wikis.ch.cam.ac.uk/bender/wiki/](http://wikis.ch.cam.ac.uk/bender/wiki/index.php/Main_Page)"
     ]
    },
    {
     "cell_type": "markdown",
     "metadata": {
      "slideshow": {
       "slide_type": "fragment"
      }
     },
     "source": [
      "<iframe src=\"http://wikis.ch.cam.ac.uk/bender/wiki/index.php/Main_Page\" width=1000 height=400></iframe>\n",
      "\n"
     ]
    },
    {
     "cell_type": "markdown",
     "metadata": {
      "slideshow": {
       "slide_type": "fragment"
      }
     },
     "source": [
      "- The wiki is now live!\n",
      "- It is behind a Raven wall, so only those with approved Raven accounts can view it.\n",
      "- Therefore it should be safe for more sensitive group information, for example datasets.\n",
      "- Anyone that can access it can contribute, so please edit at will to add information on any tools you are using.\n",
      "- Demonstation"
     ]
    },
    {
     "cell_type": "markdown",
     "metadata": {
      "slideshow": {
       "slide_type": "slide"
      }
     },
     "source": [
      "\n",
      "#GitHub\n"
     ]
    },
    {
     "cell_type": "markdown",
     "metadata": {
      "slideshow": {
       "slide_type": "fragment"
      }
     },
     "source": [
      "\n",
      "<img src=\"https://github.global.ssl.fastly.net/images/modules/logos_page/Octocat.png\" length=600 width=600>"
     ]
    },
    {
     "cell_type": "markdown",
     "metadata": {
      "slideshow": {
       "slide_type": "subslide"
      }
     },
     "source": [
      "#The problem\n",
      "\n",
      "- As a group, we are very multi-disciplined. As such, collaboration within the group should be at the core of what we do. \n",
      "- Also, as a computational research group, we are very code focused.\n",
      "- Naturally, we should have a central place where we keep group related code and files, and leave them open for people to correct and improve as well as possible.\n",
      "- At the moment, there are the shared drives, which work well for large datasets, however keeping track of code is more difficult\n",
      "- For this, I propose we use *GitHub*"
     ]
    },
    {
     "cell_type": "markdown",
     "metadata": {
      "slideshow": {
       "slide_type": "subslide"
      }
     },
     "source": [
      "\n",
      "\n",
      "#What is GitHub?\n",
      "\n",
      "- GitHub is built around **Git**, a *version control tool* designed by the same team that created Linux."
     ]
    },
    {
     "cell_type": "markdown",
     "metadata": {
      "slideshow": {
       "slide_type": "subslide"
      }
     },
     "source": [
      "\n",
      "#What is Git?\n",
      "\n",
      "- A *version control tool*: this keeps track of changes made to source code, allowing tracking of a projects progress.\n",
      "- This allows for quickly tracking where bugs are introduced in the code.\n",
      "- It also permits multiple people to work on a project without too much hassle."
     ]
    },
    {
     "cell_type": "markdown",
     "metadata": {
      "slideshow": {
       "slide_type": "subslide"
      }
     },
     "source": [
      "#How does it work?\n",
      "\n",
      "- The code is stored on a central server as a **master** copy in what git calls a *repository*.\n",
      "- A copy of this can be downloaded (*pulled*) by somebody to a *remote repository* on their local machine, edited by them in a helpful way, have these changes added to their local machine's repository (*commited*) and finally uploaded (*pushed*) into the master copy.\n",
      "\n",
      "<img src=\"http://thkoch2001.github.io/whygitisbetter/images/local-remote.png\" width= 600 height = 400 align=\"middle\">"
     ]
    },
    {
     "cell_type": "markdown",
     "metadata": {
      "slideshow": {
       "slide_type": "subslide"
      }
     },
     "source": [
      "\n",
      "#How is it related to GitHub?\n",
      "\n",
      "- GitHub is built on top of this system, and provides an much easier to use, online system.\n",
      "- The git server is hosted remotely on the GitHub servers, so everything is managed from the cloud.\n",
      "- There is a GUI that integrates the command line tools, and lets you easily track the changes in the files, along with anything anyone else has used."
     ]
    },
    {
     "cell_type": "markdown",
     "metadata": {
      "slideshow": {
       "slide_type": "subslide"
      }
     },
     "source": [
      "#GitHub.com"
     ]
    },
    {
     "cell_type": "markdown",
     "metadata": {
      "slideshow": {
       "slide_type": "fragment"
      }
     },
     "source": [
      "[GitHub.com](https://github.com/BenderGroup)"
     ]
    },
    {
     "cell_type": "markdown",
     "metadata": {
      "slideshow": {
       "slide_type": "fragment"
      }
     },
     "source": [
      "- Seach for repositories\n",
      "- Clone them into your local machine's git\n",
      "- See what others have commented on your project\n",
      "- Readmes and wikis\n",
      "- Show statistics for your coding life!"
     ]
    },
    {
     "cell_type": "markdown",
     "metadata": {
      "slideshow": {
       "slide_type": "subslide"
      }
     },
     "source": [
      "#Demo"
     ]
    },
    {
     "cell_type": "markdown",
     "metadata": {
      "slideshow": {
       "slide_type": "subslide"
      }
     },
     "source": [
      "#Benefits of GitHub"
     ]
    },
    {
     "cell_type": "markdown",
     "metadata": {
      "slideshow": {
       "slide_type": "fragment"
      }
     },
     "source": [
      "1. **Helps you work**: Keep better track of the development of your code\n",
      "2. **Collaboration**: Let people easily locate, download and look at your code, and suggest improvements\n",
      "3. **Open Source Techniques**: Provides an inside look into the development of many of the open-source project we use everyday, and open the doors for helping\n",
      "4.  **Professional Development**: Provides access to another professional 'social' network - a potential employer can look at your GitHub history and be assured that you can code well."
     ]
    },
    {
     "cell_type": "markdown",
     "metadata": {
      "slideshow": {
       "slide_type": "slide"
      }
     },
     "source": [
      "#Any questions?"
     ]
    }
   ],
   "metadata": {}
  }
 ]
}